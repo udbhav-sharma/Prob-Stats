{
 "cells": [
  {
   "cell_type": "code",
   "execution_count": 1,
   "metadata": {},
   "outputs": [],
   "source": [
    "import pandas as pd\n",
    "import numpy as np\n",
    "import matplotlib.pyplot as plt\n",
    "pd.options.mode.chained_assignment = None\n",
    "pd.options.display.max_columns = 999"
   ]
  },
  {
   "cell_type": "code",
   "execution_count": 2,
   "metadata": {},
   "outputs": [],
   "source": [
    "df = pd.read_csv('/Users/vivekkumarsah/Downloads/craigslistVehicles.csv', delimiter=',')"
   ]
  },
  {
   "cell_type": "code",
   "execution_count": 3,
   "metadata": {},
   "outputs": [],
   "source": [
    "def cleaningData(df):\n",
    "    df = df[pd.notna(df['year'])]\n",
    "    df = df[pd.notnull(df['year'])]\n",
    "    df = df[pd.notna(df['transmission'])]\n",
    "    df = df[pd.notnull(df['transmission'])]\n",
    "    df = df[df['year'] > 1885] \n",
    "    df = df[df['year'] <= 2019]\n",
    "    df[\"age\"] = 2019 - df[\"year\"]\n",
    "    return df"
   ]
  },
  {
   "cell_type": "code",
   "execution_count": 4,
   "metadata": {},
   "outputs": [],
   "source": [
    "def getDistValue(df):\n",
    "    df_manual = df[df[\"transmission\"] == \"manual\"]\n",
    "    df_automatic = df[df[\"transmission\"] == \"automatic\"]\n",
    "    X = df_manual['age']\n",
    "    Y = df_automatic['age']\n",
    "    return X,Y"
   ]
  },
  {
   "cell_type": "code",
   "execution_count": 5,
   "metadata": {},
   "outputs": [],
   "source": [
    "def calPvalue(X, Y, N):\n",
    "    T_obs = abs(np.mean(X)-np.mean(Y))\n",
    "    #print('T_obs value is', T_obs)\n",
    "    x_size = len(X)\n",
    "    temp = 0\n",
    "    XUY = pd.concat([X,Y])\n",
    "    for x in range(0,N):\n",
    "        XUY = XUY.sample(frac=1).reset_index(drop=True)\n",
    "        T_i = abs(np.mean(XUY[:x_size]) - np.mean(XUY[x_size:]))\n",
    "        temp += (T_i > T_obs)\n",
    "        #print(\"temp value and T_i value\", temp , T_i)\n",
    "        \n",
    "    return temp/N\n"
   ]
  },
  {
   "cell_type": "code",
   "execution_count": 6,
   "metadata": {},
   "outputs": [],
   "source": [
    "df = cleaningData(df)"
   ]
  },
  {
   "cell_type": "code",
   "execution_count": 7,
   "metadata": {},
   "outputs": [],
   "source": [
    "X,Y = getDistValue(df)"
   ]
  },
  {
   "cell_type": "code",
   "execution_count": 8,
   "metadata": {},
   "outputs": [
    {
     "name": "stdout",
     "output_type": "stream",
     "text": [
      "P-value is  0.0\n"
     ]
    }
   ],
   "source": [
    "pvalue = calPvalue(X,Y,100)\n",
    "print('P-value is ', pvalue)"
   ]
  },
  {
   "cell_type": "code",
   "execution_count": 15,
   "metadata": {},
   "outputs": [
    {
     "name": "stdout",
     "output_type": "stream",
     "text": [
      "P-value is  0.0\n"
     ]
    }
   ],
   "source": [
    "pvalue = calPvalue(X,Y,10000)\n",
    "print('P-value is ', pvalue)"
   ]
  }
 ],
 "metadata": {
  "kernelspec": {
   "display_name": "Python 3",
   "language": "python",
   "name": "python3"
  },
  "language_info": {
   "codemirror_mode": {
    "name": "ipython",
    "version": 3
   },
   "file_extension": ".py",
   "mimetype": "text/x-python",
   "name": "python",
   "nbconvert_exporter": "python",
   "pygments_lexer": "ipython3",
   "version": "3.7.0"
  }
 },
 "nbformat": 4,
 "nbformat_minor": 2
}
